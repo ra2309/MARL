{
 "cells": [
  {
   "cell_type": "markdown",
   "metadata": {},
   "source": [
    "# Collaboration and Competition\n",
    "\n",
    "---\n",
    "\n",
    "You are welcome to use this coding environment to train your agent for the project.  Follow the instructions below to get started!\n",
    "\n",
    "### 1. Start the Environment\n",
    "\n",
    "Run the next code cell to install a few packages.  This line will take a few minutes to run!"
   ]
  },
  {
   "cell_type": "code",
   "execution_count": 1,
   "metadata": {},
   "outputs": [],
   "source": [
    "from workspace_utils import active_session"
   ]
  },
  {
   "cell_type": "code",
   "execution_count": 2,
   "metadata": {},
   "outputs": [
    {
     "name": "stdout",
     "output_type": "stream",
     "text": [
      "\u001b[31mtensorflow 1.7.1 has requirement numpy>=1.13.3, but you'll have numpy 1.12.1 which is incompatible.\u001b[0m\r\n",
      "\u001b[31mipython 6.5.0 has requirement prompt-toolkit<2.0.0,>=1.0.15, but you'll have prompt-toolkit 3.0.5 which is incompatible.\u001b[0m\r\n"
     ]
    }
   ],
   "source": [
    "!pip -q install ./python"
   ]
  },
  {
   "cell_type": "markdown",
   "metadata": {},
   "source": [
    "The environment is already saved in the Workspace and can be accessed at the file path provided below. "
   ]
  },
  {
   "cell_type": "code",
   "execution_count": 3,
   "metadata": {},
   "outputs": [
    {
     "name": "stderr",
     "output_type": "stream",
     "text": [
      "INFO:unityagents:\n",
      "'Academy' started successfully!\n",
      "Unity Academy name: Academy\n",
      "        Number of Brains: 1\n",
      "        Number of External Brains : 1\n",
      "        Lesson number : 0\n",
      "        Reset Parameters :\n",
      "\t\t\n",
      "Unity brain name: TennisBrain\n",
      "        Number of Visual Observations (per agent): 0\n",
      "        Vector Observation space type: continuous\n",
      "        Vector Observation space size (per agent): 8\n",
      "        Number of stacked Vector Observation: 3\n",
      "        Vector Action space type: continuous\n",
      "        Vector Action space size (per agent): 2\n",
      "        Vector Action descriptions: , \n"
     ]
    }
   ],
   "source": [
    "from unityagents import UnityEnvironment\n",
    "import numpy as np\n",
    "\n",
    "env = UnityEnvironment(file_name=\"/data/Tennis_Linux_NoVis/Tennis\")"
   ]
  },
  {
   "cell_type": "markdown",
   "metadata": {},
   "source": [
    "Environments contain **_brains_** which are responsible for deciding the actions of their associated agents. Here we check for the first brain available, and set it as the default brain we will be controlling from Python."
   ]
  },
  {
   "cell_type": "code",
   "execution_count": 4,
   "metadata": {},
   "outputs": [],
   "source": [
    "# get the default brain\n",
    "brain_name = env.brain_names[0]\n",
    "brain = env.brains[brain_name]"
   ]
  },
  {
   "cell_type": "markdown",
   "metadata": {},
   "source": [
    "### 2. Examine the State and Action Spaces\n",
    "\n",
    "Run the code cell below to print some information about the environment."
   ]
  },
  {
   "cell_type": "code",
   "execution_count": 5,
   "metadata": {},
   "outputs": [
    {
     "name": "stdout",
     "output_type": "stream",
     "text": [
      "Number of agents: 2\n",
      "Size of each action: 2\n",
      "There are 2 agents. Each observes a state with length: 24\n",
      "The state for the first agent looks like: [ 0.          0.          0.          0.          0.          0.          0.\n",
      "  0.          0.          0.          0.          0.          0.          0.\n",
      "  0.          0.         -6.65278625 -1.5        -0.          0.\n",
      "  6.83172083  6.         -0.          0.        ]\n"
     ]
    }
   ],
   "source": [
    "# reset the environment\n",
    "env_info = env.reset(train_mode=True)[brain_name]\n",
    "\n",
    "# number of agents \n",
    "num_agents = len(env_info.agents)\n",
    "print('Number of agents:', num_agents)\n",
    "\n",
    "# size of each action\n",
    "action_size = brain.vector_action_space_size\n",
    "print('Size of each action:', action_size)\n",
    "\n",
    "# examine the state space \n",
    "states = env_info.vector_observations\n",
    "state_size = states.shape[1]\n",
    "print('There are {} agents. Each observes a state with length: {}'.format(states.shape[0], state_size))\n",
    "print('The state for the first agent looks like:', states[0])"
   ]
  },
  {
   "cell_type": "markdown",
   "metadata": {},
   "source": [
    "### 3. Take Random Actions in the Environment\n",
    "\n",
    "In the next code cell, you will learn how to use the Python API to control the agent and receive feedback from the environment.\n",
    "\n",
    "Note that **in this coding environment, you will not be able to watch the agents while they are training**, and you should set `train_mode=True` to restart the environment."
   ]
  },
  {
   "cell_type": "code",
   "execution_count": null,
   "metadata": {},
   "outputs": [],
   "source": [
    "for i in range(5):                                         # play game for 5 episodes\n",
    "                            # initialize the score (for each agent)\n",
    "    while True:\n",
    "        actions = np.random.randn(num_agents, action_size) # select an action (for each agent)\n",
    "        \n",
    "        actions = np.clip(actions, -1, 1)                  # all actions between -1 and 1\n",
    "        env_info = env.step(actions)[brain_name]           # send all actions to tne environment\n",
    "        next_states = env_info.vector_observations         # get next state (for each agent)\n",
    "        rewards = env_info.rewards                         # get reward (for each agent)\n",
    "        dones = env_info.local_done                        # see if episode finished\n",
    "        scores += env_info.rewards                         # update the score (for each agent)\n",
    "        states = next_states                               # roll over states to next time step\n",
    "        if np.any(dones):                                  # exit loop if episode finished\n",
    "            break\n",
    "    print('Total score (averaged over agents) this episode: {}'.format(np.mean(scores)))"
   ]
  },
  {
   "cell_type": "markdown",
   "metadata": {},
   "source": [
    "When finished, you can close the environment."
   ]
  },
  {
   "cell_type": "code",
   "execution_count": null,
   "metadata": {},
   "outputs": [],
   "source": [
    "env.close()"
   ]
  },
  {
   "cell_type": "markdown",
   "metadata": {},
   "source": [
    "### 4. It's Your Turn!\n",
    "\n",
    "Now it's your turn to train your own agent to solve the environment!  A few **important notes**:\n",
    "- When training the environment, set `train_mode=True`, so that the line for resetting the environment looks like the following:\n",
    "```python\n",
    "env_info = env.reset(train_mode=True)[brain_name]\n",
    "```\n",
    "- To structure your work, you're welcome to work directly in this Jupyter notebook, or you might like to start over with a new file!  You can see the list of files in the workspace by clicking on **_Jupyter_** in the top left corner of the notebook.\n",
    "- In this coding environment, you will not be able to watch the agents while they are training.  However, **_after training the agents_**, you can download the saved model weights to watch the agents on your own machine! "
   ]
  },
  {
   "cell_type": "code",
   "execution_count": 6,
   "metadata": {},
   "outputs": [
    {
     "name": "stdout",
     "output_type": "stream",
     "text": [
      "Collecting progressbar\n",
      "  Downloading https://files.pythonhosted.org/packages/a3/a6/b8e451f6cff1c99b4747a2f7235aa904d2d49e8e1464e0b798272aa84358/progressbar-2.5.tar.gz\n",
      "Building wheels for collected packages: progressbar\n",
      "  Running setup.py bdist_wheel for progressbar ... \u001b[?25ldone\n",
      "\u001b[?25h  Stored in directory: /root/.cache/pip/wheels/c0/e9/6b/ea01090205e285175842339aa3b491adeb4015206cda272ff0\n",
      "Successfully built progressbar\n",
      "Installing collected packages: progressbar\n",
      "Successfully installed progressbar-2.5\n"
     ]
    }
   ],
   "source": [
    "import torch.optim as optim\n",
    "from torch import nn\n",
    "import torch\n",
    "from collections import deque\n",
    "import torch.nn.functional as F\n",
    "!pip install progressbar\n",
    "import progressbar as pb"
   ]
  },
  {
   "cell_type": "code",
   "execution_count": 7,
   "metadata": {},
   "outputs": [],
   "source": [
    "device = torch.device(\"cuda:0\" if torch.cuda.is_available() else \"cpu\")\n",
    " \n",
    "\n"
   ]
  },
  {
   "cell_type": "code",
   "execution_count": 36,
   "metadata": {},
   "outputs": [],
   "source": [
    "import os\n",
    "import torch\n",
    "import torch.nn.functional as F\n",
    "import torch.distributed as dist\n",
    "from torch.autograd import Variable\n",
    "import numpy as np\n",
    "\n",
    "def transpose_list(mylist):\n",
    "    return list(map(list, zip(*mylist)))\n",
    "\n",
    "def transpose_to_tensor(input_list):\n",
    "    make_tensor = lambda x: torch.tensor(x, dtype=torch.float)\n",
    "    return list(map(make_tensor, zip(*input_list)))\n",
    "\n",
    "\n",
    "# https://github.com/ikostrikov/pytorch-ddpg-naf/blob/master/ddpg.py#L11\n",
    "def soft_update(target, source, tau):\n",
    "    \"\"\"\n",
    "    Perform DDPG soft update (move target params toward source based on weight\n",
    "    factor tau)\n",
    "    Inputs:\n",
    "        target (torch.nn.Module): Net to copy parameters to\n",
    "        source (torch.nn.Module): Net whose parameters to copy\n",
    "        tau (float, 0 < x < 1): Weight factor for update\n",
    "    \"\"\"\n",
    "    for target_param, param in zip(target.parameters(), source.parameters()):\n",
    "        target_param.data.copy_(target_param.data * (1.0 - tau) + param.data * tau)\n",
    "\n",
    "# https://github.com/ikostrikov/pytorch-ddpg-naf/blob/master/ddpg.py#L15\n",
    "def hard_update(target, source):\n",
    "    \"\"\"\n",
    "    Copy network parameters from source to target\n",
    "    Inputs:\n",
    "        target (torch.nn.Module): Net to copy parameters to\n",
    "        source (torch.nn.Module): Net whose parameters to copy\n",
    "    \"\"\"\n",
    "    for target_param, param in zip(target.parameters(), source.parameters()):\n",
    "        target_param.data.copy_(param.data)\n",
    "\n",
    "# https://github.com/seba-1511/dist_tuto.pth/blob/gh-pages/train_dist.py\n",
    "def average_gradients(model):\n",
    "    \"\"\" Gradient averaging. \"\"\"\n",
    "    size = float(dist.get_world_size())\n",
    "    for param in model.parameters():\n",
    "        dist.all_reduce(param.grad.data, op=dist.reduce_op.SUM, group=0)\n",
    "        param.grad.data /= size\n",
    "\n",
    "# https://github.com/seba-1511/dist_tuto.pth/blob/gh-pages/train_dist.py\n",
    "def init_processes(rank, size, fn, backend='gloo'):\n",
    "    \"\"\" Initialize the distributed environment. \"\"\"\n",
    "    os.environ['MASTER_ADDR'] = '127.0.0.1'\n",
    "    os.environ['MASTER_PORT'] = '29500'\n",
    "    dist.init_process_group(backend, rank=rank, world_size=size)\n",
    "    fn(rank, size)\n",
    "\n",
    "def onehot_from_logits(logits, eps=0.0):\n",
    "    \"\"\"\n",
    "    Given batch of logits, return one-hot sample using epsilon greedy strategy\n",
    "    (based on given epsilon)\n",
    "    \"\"\"\n",
    "    # get best (according to current policy) actions in one-hot form\n",
    "    argmax_acs = (logits == logits.max(1, keepdim=True)[0]).float()\n",
    "    if eps == 0.0:\n",
    "        return argmax_acs\n",
    "    # get random actions in one-hot form\n",
    "    rand_acs = Variable(torch.eye(logits.shape[1])[[np.random.choice(\n",
    "        range(logits.shape[1]), size=logits.shape[0])]], requires_grad=False)\n",
    "    # chooses between best and random actions using epsilon greedy\n",
    "    return torch.stack([argmax_acs[i] if r > eps else rand_acs[i] for i, r in\n",
    "                        enumerate(torch.rand(logits.shape[0]))])\n",
    "\n",
    "# modified for PyTorch from https://github.com/ericjang/gumbel-softmax/blob/master/Categorical%20VAE.ipynb\n",
    "def sample_gumbel(shape, eps=1e-20, tens_type=torch.FloatTensor):\n",
    "    \"\"\"Sample from Gumbel(0, 1)\"\"\"\n",
    "    U = Variable(tens_type(*shape).uniform_(), requires_grad=False)\n",
    "    return -torch.log(-torch.log(U + eps) + eps)\n",
    "\n",
    "# modified for PyTorch from https://github.com/ericjang/gumbel-softmax/blob/master/Categorical%20VAE.ipynb\n",
    "def gumbel_softmax_sample(logits, temperature):\n",
    "    \"\"\" Draw a sample from the Gumbel-Softmax distribution\"\"\"\n",
    "    y = logits + sample_gumbel(logits.shape, tens_type=type(logits.data))\n",
    "    return F.softmax(y / temperature, dim=1)\n",
    "\n",
    "# modified for PyTorch from https://github.com/ericjang/gumbel-softmax/blob/master/Categorical%20VAE.ipynb\n",
    "def gumbel_softmax(logits, temperature=0.5, hard=False):\n",
    "    \"\"\"Sample from the Gumbel-Softmax distribution and optionally discretize.\n",
    "    Args:\n",
    "      logits: [batch_size, n_class] unnormalized log-probs\n",
    "      temperature: non-negative scalar\n",
    "      hard: if True, take argmax, but differentiate w.r.t. soft sample y\n",
    "    Returns:\n",
    "      [batch_size, n_class] sample from the Gumbel-Softmax distribution.\n",
    "      If hard=True, then the returned sample will be one-hot, otherwise it will\n",
    "      be a probabilitiy distribution that sums to 1 across classes\n",
    "    \"\"\"\n",
    "    y = gumbel_softmax_sample(logits, temperature)\n",
    "    if hard:\n",
    "        y_hard = onehot_from_logits(y)\n",
    "        y = (y_hard - y).detach() + y\n",
    "    return y\n",
    "\n"
   ]
  },
  {
   "cell_type": "code",
   "execution_count": 37,
   "metadata": {},
   "outputs": [],
   "source": [
    "import torch\n",
    "import torch.nn as nn\n",
    "import torch.nn.functional as f\n",
    "import numpy as np\n",
    "\n",
    "def hidden_init(layer):\n",
    "    fan_in = layer.weight.data.size()[0]\n",
    "    lim = 1. / np.sqrt(fan_in)\n",
    "    return (-lim, lim)\n",
    "\n",
    "class Network(nn.Module):\n",
    "    def __init__(self, input_dim, output_dim, actor=False):\n",
    "        super(Network, self).__init__()\n",
    "\n",
    "        \"\"\"self.input_norm = nn.BatchNorm1d(input_dim)\n",
    "        self.input_norm.weight.data.fill_(1)\n",
    "        self.input_norm.bias.data.fill_(0)\"\"\"\n",
    "\n",
    "        self.fc1 = nn.Linear(input_dim,64)\n",
    "        self.fc2 = nn.Linear(64,64)\n",
    "        self.fc3 = nn.Linear(64,output_dim)\n",
    "        self.nonlin = f.relu #leaky_relu\n",
    "        self.actor = actor\n",
    "        #self.reset_parameters()\n",
    "\n",
    "    def reset_parameters(self):\n",
    "        self.fc1.weight.data.uniform_(*hidden_init(self.fc1))\n",
    "        self.fc2.weight.data.uniform_(*hidden_init(self.fc2))\n",
    "        self.fc3.weight.data.uniform_(-1e-3, 1e-3)\n",
    "\n",
    "    def forward(self, x):\n",
    "        if self.actor:\n",
    "            # return a vector of the force\n",
    "            h1 = self.nonlin(self.fc1(x))\n",
    "\n",
    "            h2 = self.nonlin(self.fc2(h1))\n",
    "            h3 = (self.fc3(h2))\n",
    "            norm = torch.norm(h3)\n",
    "            \n",
    "            # h3 is a 2D vector (a force that is applied to the agent)\n",
    "            # we bound the norm of the vector to be between 0 and 10\n",
    "            return 10.0*(f.tanh(norm))*h3/norm if norm > 0 else 10*h3\n",
    "        \n",
    "        else:\n",
    "            # critic network simply outputs a number\n",
    "            h1 = self.nonlin(self.fc1(x))\n",
    "            h2 = self.nonlin(self.fc2(h1))\n",
    "            h3 = (self.fc3(h2))\n",
    "            return h3"
   ]
  },
  {
   "cell_type": "code",
   "execution_count": 38,
   "metadata": {},
   "outputs": [],
   "source": [
    "from collections import deque\n",
    "import random\n",
    "\n",
    "\n",
    "class ReplayBuffer:\n",
    "    def __init__(self,size):\n",
    "        self.size = size\n",
    "        self.deque = deque(maxlen=self.size)\n",
    "\n",
    "    def push(self,transition):\n",
    "        \"\"\"push into the buffer\"\"\"\n",
    "        \n",
    "        #input_to_buffer = transpose_list(transition)\n",
    "        #for item in input_to_buffer:\n",
    "        #    self.deque.append(item)\n",
    "        self.deque.append(transition)\n",
    "    def sample(self, batchsize):\n",
    "        \"\"\"sample from the buffer\"\"\"\n",
    "        samples = random.sample(self.deque, batchsize)\n",
    "        states = []\n",
    "        actions = []\n",
    "        next_states = []\n",
    "        rewards = []\n",
    "        dones = []\n",
    "        for i in samples:\n",
    "            state,action,reward,next_state,done = i[0],i[1],i[2],i[3],i[4]\n",
    "            states.append(state)\n",
    "            actions.append(action)\n",
    "            next_states.append(next_state)\n",
    "            dones.append(done)\n",
    "            rewards.append(reward)\n",
    "        # transpose list of list\n",
    "        return states,actions,rewards,next_states,dones\n",
    "        #return samples\n",
    "    def __len__(self):\n",
    "        return len(self.deque)\n",
    "\n",
    "\n",
    "\n",
    "\n"
   ]
  },
  {
   "cell_type": "code",
   "execution_count": 39,
   "metadata": {},
   "outputs": [],
   "source": [
    "import numpy as np\n",
    "import torch\n",
    "\n",
    "\n",
    "# from https://github.com/songrotek/DDPG/blob/master/ou_noise.py\n",
    "class OUNoise:\n",
    "\n",
    "    def __init__(self, action_dimension, scale=0.1, mu=0, theta=0.15, sigma=0.2):\n",
    "        self.action_dimension = action_dimension\n",
    "        self.scale = scale\n",
    "        self.mu = mu\n",
    "        self.theta = theta\n",
    "        self.sigma = sigma\n",
    "        self.state = np.ones(self.action_dimension) * self.mu\n",
    "        self.reset()\n",
    "\n",
    "    def reset(self):\n",
    "        self.state = np.ones(self.action_dimension) * self.mu\n",
    "\n",
    "    def noise(self):\n",
    "        x = self.state\n",
    "        dx = self.theta * (self.mu - x) + self.sigma * np.random.randn(len(x))\n",
    "        self.state = x + dx\n",
    "        return torch.tensor(self.state * self.scale).float()"
   ]
  },
  {
   "cell_type": "code",
   "execution_count": 40,
   "metadata": {},
   "outputs": [],
   "source": [
    "# individual network settings for each actor + critic pair\n",
    "# see networkforall for details\n",
    "\n",
    "from torch.optim import Adam\n",
    "import torch\n",
    "import numpy as np\n",
    "\n",
    "\n",
    "# add OU noise for exploration\n",
    "\n",
    "device = torch.device(\"cuda\" if torch.cuda.is_available() else \"cpu\")\n",
    "\n",
    "class DDPGAgent:\n",
    "    def __init__(self, state_size,action_size, lr_actor=1.0e-2, lr_critic=1.0e-2):\n",
    "        super(DDPGAgent, self).__init__()\n",
    "\n",
    "        self.actor = Network(state_size,action_size, actor=True).to(device)\n",
    "        self.critic = Network(state_size+action_size,1, actor=False).to(device)\n",
    "        self.target_actor = Network(state_size,action_size, actor=True).to(device)\n",
    "        self.target_critic = Network(state_size+action_size,1, actor=False).to(device)\n",
    "\n",
    "        self.noise = OUNoise(action_size, scale=1.0 )\n",
    "\n",
    "        \n",
    "        # initialize targets same as original networks\n",
    "        hard_update(self.target_actor, self.actor)\n",
    "        hard_update(self.target_critic, self.critic)\n",
    "\n",
    "        self.actor_optimizer = Adam(self.actor.parameters(), lr=lr_actor)\n",
    "        self.critic_optimizer = Adam(self.critic.parameters(), lr=lr_critic, weight_decay=1.e-5)\n",
    "\n",
    "\n",
    "    def act(self, obs, noise=0.0):\n",
    "        #obs = torch.from_numpy(obs).float().to(device)\n",
    "        action = self.actor(obs) + noise*self.noise.noise()\n",
    "        return action\n",
    "\n",
    "    def target_act(self, obs, noise=0.0):\n",
    "        #obs = torch.from_numpy(obs).float().to(device)\n",
    "        action = self.target_actor(obs) + noise*self.noise.noise()\n",
    "        return action\n",
    "\n"
   ]
  },
  {
   "cell_type": "code",
   "execution_count": 41,
   "metadata": {},
   "outputs": [],
   "source": [
    "# main code that contains the neural network setup\n",
    "# policy + critic updates\n",
    "# see ddpg.py for other details in the network\n",
    "\n",
    "import torch\n",
    "#device = torch.device(\"cuda\" if torch.cuda.is_available() else \"cpu\")\n",
    "device = 'cpu'\n",
    "\n",
    "\n",
    "\n",
    "class MADDPG:\n",
    "    def __init__(self, discount_factor=0.95, tau=0.02):\n",
    "        super(MADDPG, self).__init__()\n",
    "\n",
    "        # critic input = obs_full + actions = 14+2+2+2=20\n",
    "        self.maddpg_agent = [DDPGAgent(state_size, action_size), \n",
    "                             DDPGAgent(state_size, action_size)]        \n",
    "        self.discount_factor = discount_factor\n",
    "        self.tau = tau\n",
    "        self.iter = 0\n",
    "\n",
    "    def get_actors(self):\n",
    "        \"\"\"get actors of all the agents in the MADDPG object\"\"\"\n",
    "        actors = [ddpg_agent.actor for ddpg_agent in self.maddpg_agent]\n",
    "        return actors\n",
    "\n",
    "    def get_target_actors(self):\n",
    "        \"\"\"get target_actors of all the agents in the MADDPG object\"\"\"\n",
    "        target_actors = [ddpg_agent.target_actor for ddpg_agent in self.maddpg_agent]\n",
    "        return target_actors\n",
    "\n",
    "    def act(self, obs_all_agents, noise=0.0):\n",
    "        \"\"\"get actions from all agents in the MADDPG object\"\"\"\n",
    "        actions = [agent.act(obs, noise) for agent, obs in zip(self.maddpg_agent, obs_all_agents)]\n",
    "        return actions\n",
    "\n",
    "    def target_act(self, obs_all_agents, noise=0.0):\n",
    "        \"\"\"get target network actions from all the agents in the MADDPG object \"\"\"\n",
    "        obs_all_agents = obs_all_agents.view(2,64,state_size)\n",
    "        target_actions = [ddpg_agent.target_act(obs, noise) for ddpg_agent, obs in zip(self.maddpg_agent, obs_all_agents)]\n",
    "        return target_actions\n",
    "\n",
    "    def update(self, samples, agent_number):\n",
    "        \"\"\"update the critics and actors of all the agents \"\"\"\n",
    "\n",
    "        # need to transpose each element of the samples\n",
    "        # to flip obs[parallel_agent][agent_number] to\n",
    "        # obs[agent_number][parallel_agent]\n",
    "        obs_full, action, reward, next_obs_full, done = samples\n",
    "        obs_full = torch.stack(obs_full)\n",
    "        next_obs_full = torch.stack(next_obs_full)\n",
    "        obs_full = obs_full.view(2,64,state_size)\n",
    "        next_obs_full = next_obs_full.view(2,64,state_size)\n",
    "        action = torch.stack(action).view(2,64,action_size)\n",
    "        reward = torch.stack(reward).view(2,64,1)\n",
    "        done = torch.stack(done).view(2,64,1)\n",
    "        agent = self.maddpg_agent[agent_number]\n",
    "        agent.critic_optimizer.zero_grad()\n",
    "        #critic loss = batch mean of (y- Q(s,a) from target network)^2\n",
    "        #y = reward of this timestep + discount * Q(st+1,at+1) from target network\n",
    "        target_actions = self.target_act(next_obs_full) # was full\n",
    "        target_actions = torch.cat(target_actions).view(2,64,2)\n",
    "        # Correct this later\n",
    "        #next_obs = next_obs_full.view(2,-1)\n",
    "        \n",
    "        target_critic_input = torch.cat((next_obs_full,target_actions), dim=2).to(device)\n",
    "        \n",
    "        with torch.no_grad():\n",
    "            q_next = agent.target_critic(target_critic_input)\n",
    "        \n",
    "        y = reward[agent_number].view(-1, 1) + self.discount_factor * q_next * (1 - done[agent_number].view(-1, 1))\n",
    "        #action = torch.cat(action, dim=1)\n",
    "        \n",
    "        critic_input = torch.cat((obs_full, action), dim=2).to(device)\n",
    "        q = agent.critic(critic_input)\n",
    "\n",
    "        huber_loss = torch.nn.SmoothL1Loss()\n",
    "        critic_loss = huber_loss(q, y.detach())\n",
    "        critic_loss.backward()\n",
    "        #torch.nn.utils.clip_grad_norm_(agent.critic.parameters(), 0.5)\n",
    "        agent.critic_optimizer.step()\n",
    "\n",
    "        #update actor network using policy gradient\n",
    "        agent.actor_optimizer.zero_grad()\n",
    "        # make input to agent\n",
    "        # detach the other agents to save computation\n",
    "        # saves some time for computing derivative\n",
    "        q_input = [ self.maddpg_agent[i].actor(ob) if i == agent_number \\\n",
    "                   else self.maddpg_agent[i].actor(ob).detach()\n",
    "                   for i, ob in enumerate(obs_full) ]\n",
    "        \n",
    "        q_input = torch.cat(q_input, dim=0).view(2,64,2)\n",
    "        # combine all the actions and observations for input to critic\n",
    "        # many of the obs are redundant, and obs[1] contains all useful information already\n",
    "        \n",
    "        q_input2 = torch.cat((obs_full ,q_input), dim=2)\n",
    "        \n",
    "        # get the policy gradient\n",
    "        actor_loss = -agent.critic(q_input2).mean()\n",
    "        actor_loss.backward()\n",
    "        #torch.nn.utils.clip_grad_norm_(agent.actor.parameters(),0.5)\n",
    "        agent.actor_optimizer.step()\n",
    "\n",
    "        al = actor_loss.cpu().detach().item()\n",
    "        cl = critic_loss.cpu().detach().item()\n",
    "      \n",
    "\n",
    "    def update_targets(self):\n",
    "        \"\"\"soft update targets\"\"\"\n",
    "        self.iter += 1\n",
    "        for ddpg_agent in self.maddpg_agent:\n",
    "            soft_update(ddpg_agent.target_actor, ddpg_agent.actor, self.tau)\n",
    "            soft_update(ddpg_agent.target_critic, ddpg_agent.critic, self.tau)"
   ]
  },
  {
   "cell_type": "code",
   "execution_count": 42,
   "metadata": {
    "scrolled": false
   },
   "outputs": [
    {
     "name": "stderr",
     "output_type": "stream",
     "text": [
      "episode: 0/10000   0% ETA:  --:--:-- |                                       | \r"
     ]
    },
    {
     "name": "stdout",
     "output_type": "stream",
     "text": [
      "Episode:  0 Average score:  0.0\n"
     ]
    },
    {
     "name": "stderr",
     "output_type": "stream",
     "text": [
      "episode: 100/10000   1% ETA:  0:03:21 |                                      | \r"
     ]
    },
    {
     "name": "stdout",
     "output_type": "stream",
     "text": [
      "Episode:  100 Average score:  -0.0343137\n"
     ]
    },
    {
     "name": "stderr",
     "output_type": "stream",
     "text": [
      "episode: 196/10000   1% ETA:  0:03:24 |                                      | \r"
     ]
    },
    {
     "name": "stdout",
     "output_type": "stream",
     "text": [
      "Episode:  200 Average score:  -0.0826\n"
     ]
    },
    {
     "name": "stderr",
     "output_type": "stream",
     "text": [
      "episode: 288/10000   2% ETA:  0:03:26 |-                                     | \r"
     ]
    },
    {
     "name": "stdout",
     "output_type": "stream",
     "text": [
      "Episode:  300 Average score:  -0.0441\n"
     ]
    },
    {
     "name": "stderr",
     "output_type": "stream",
     "text": [
      "episode: 386/10000   3% ETA:  0:03:24 ||                                     | \r"
     ]
    },
    {
     "name": "stdout",
     "output_type": "stream",
     "text": [
      "Episode:  400 Average score:  -0.013\n"
     ]
    },
    {
     "name": "stderr",
     "output_type": "stream",
     "text": [
      "episode: 488/10000   4% ETA:  0:03:19 |-                                     | \r"
     ]
    },
    {
     "name": "stdout",
     "output_type": "stream",
     "text": [
      "Episode:  500 Average score:  -0.1081\n"
     ]
    },
    {
     "name": "stderr",
     "output_type": "stream",
     "text": [
      "episode: 606/10000   6% ETA:  0:03:26 |//                                    | \r"
     ]
    },
    {
     "name": "stdout",
     "output_type": "stream",
     "text": [
      "Episode:  600 Average score:  -0.1182\n"
     ]
    },
    {
     "name": "stderr",
     "output_type": "stream",
     "text": [
      "episode: 690/10000   6% ETA:  0:03:27 |\\\\                                    | \r"
     ]
    },
    {
     "name": "stdout",
     "output_type": "stream",
     "text": [
      "Episode:  700 Average score:  0.4049\n"
     ]
    },
    {
     "name": "stderr",
     "output_type": "stream",
     "text": [
      "episode: 10000/10000 100% Time: 0:00:16 |||||||||||||||||||||||||||||||||||||| \r"
     ]
    },
    {
     "name": "stdout",
     "output_type": "stream",
     "text": [
      "---------- Envionrment Solved at Episode:  712 -------------\n"
     ]
    },
    {
     "name": "stderr",
     "output_type": "stream",
     "text": [
      "\n"
     ]
    }
   ],
   "source": [
    "# main function that sets up environments\n",
    "# perform training loop\n",
    "\n",
    "import torch\n",
    "import numpy as np\n",
    "import os\n",
    "\n",
    "# keep training awake\n",
    "\n",
    "# for saving gif\n",
    "import imageio\n",
    "\n",
    "def seeding(seed=1):\n",
    "    np.random.seed(seed)\n",
    "    torch.manual_seed(seed)\n",
    "\n",
    "def pre_process(entity, batchsize):\n",
    "    processed_entity = []\n",
    "    for j in range(2):\n",
    "        list = []\n",
    "        for i in range(batchsize):\n",
    "            b = entity[i][j]\n",
    "            list.append(b)\n",
    "        c = torch.Tensor(list)\n",
    "        processed_entity.append(c)\n",
    "    return processed_entity\n",
    "\n",
    "\n",
    "def main():\n",
    "    seeding()\n",
    "    # number of parallel agents\n",
    "    parallel_envs = 2\n",
    "    # number of training episodes.\n",
    "    # change this to higher number to experiment. say 30000.\n",
    "    number_of_episodes = 10000\n",
    "    episode_length = 1000\n",
    "    batchsize = 64\n",
    "    # how many episodes to save policy and gif\n",
    "    save_interval = 1000\n",
    "    t = 0\n",
    "    \n",
    "    # amplitude of OU noise\n",
    "    # this slowly decreases to 0\n",
    "    noise = 2\n",
    "    noise_reduction = 0.9999\n",
    "\n",
    "    # how many episodes before update\n",
    "    episode_per_update = 2 * parallel_envs\n",
    "\n",
    "    log_path = os.getcwd()+\"/log\"\n",
    "    model_dir= os.getcwd()+\"/model_dir\"\n",
    "    \n",
    "    os.makedirs(model_dir, exist_ok=True)\n",
    "\n",
    "    torch.set_num_threads(parallel_envs)\n",
    "    #env = envs.make_parallel_env(parallel_envs)\n",
    "    \n",
    "    # keep 5000 episodes worth of replay\n",
    "    buffer = ReplayBuffer(int(5000*episode_length))\n",
    "    \n",
    "    # initialize policy and critic\n",
    "    maddpg = MADDPG()\n",
    "    agent0_reward = []\n",
    "    agent1_reward = []\n",
    "    score1 = 0\n",
    "    score2 = 0\n",
    "    score = 0\n",
    "    scores = deque(maxlen=100)\n",
    "    all_scores = []\n",
    "    # training loop\n",
    "    # show progressbar\n",
    "    import progressbar as pb\n",
    "    widget = ['episode: ', pb.Counter(),'/',str(number_of_episodes),' ', \n",
    "              pb.Percentage(), ' ', pb.ETA(), ' ', pb.Bar(marker=pb.RotatingMarker()), ' ' ]\n",
    "    \n",
    "    timer = pb.ProgressBar(widgets=widget, maxval=number_of_episodes).start()\n",
    "\n",
    "    # use keep_awake to keep workspace from disconnecting\n",
    "    for episode in (range(0, number_of_episodes, parallel_envs)):\n",
    "\n",
    "        timer.update(episode)\n",
    "\n",
    "\n",
    "        reward_this_episode = np.zeros((parallel_envs, 2)) \n",
    "        env_info = env.reset(train_mode=True)[brain_name]\n",
    "\n",
    "        states = env_info.vector_observations\n",
    "        #r = transpose_list(states)\n",
    "        #for calculating rewards for this particular episode - addition of all time steps\n",
    "        states = torch.from_numpy(states).float().to(device)\n",
    "        # save info or not\n",
    "        save_info = ((episode) % save_interval < parallel_envs or episode==number_of_episodes-parallel_envs)\n",
    "        frames = []\n",
    "        tmax = 0\n",
    "        \n",
    "        \n",
    "\n",
    "\n",
    "        \n",
    "        for episode_t in range(episode_length):\n",
    "\n",
    "            t += parallel_envs\n",
    "            \n",
    "\n",
    "            # explore = only explore for a certain number of episodes\n",
    "            # action input needs to be transposed\n",
    "            actions = maddpg.act((states), noise=noise)\n",
    "            noise *= noise_reduction\n",
    "            actions_array = torch.stack(actions).detach().numpy()\n",
    "            # transpose the list of list\n",
    "            # flip the first two indices\n",
    "            # input to step requires the first index to correspond to number of parallel agents\n",
    "            #actions_for_env = np.rollaxis(actions_array,1)\n",
    "            # step forward one frame\n",
    "            env_info = env.step(actions_array)[brain_name]\n",
    "            next_states = env_info.vector_observations         # get next state (for each agent)\n",
    "            #next_states, next_states_full = transpose_list(states)\n",
    "            rewards = env_info.rewards                         # get reward (for each agent)\n",
    "            dones = env_info.local_done                        # see if episode finished\n",
    "            # add data to buffer\n",
    "            next_states = torch.from_numpy(next_states).float().to(device)\n",
    "            \n",
    "            rewards = torch.Tensor(rewards).float().to(device)\n",
    "            dones = torch.Tensor(dones).float().to(device)\n",
    "            actions = torch.from_numpy(actions_array).float().to(device)\n",
    "            transition = (states, actions, rewards, next_states, dones)\n",
    "            \n",
    "            buffer.push(transition)\n",
    "            \n",
    "            score1 += rewards[0]\n",
    "            score2 += rewards[1]\n",
    "            if np.any(dones):\n",
    "                break\n",
    "            states = next_states     \n",
    "            \n",
    "            \n",
    "            # save gif frame\n",
    "            \n",
    "        score = np.max([score1,score2])\n",
    "        scores.append(score)\n",
    "        all_scores.append(score)\n",
    "\n",
    "        \n",
    "        # update once after every episode_per_update\n",
    "        if len(buffer) > batchsize and episode % episode_per_update < parallel_envs:\n",
    "            for a_i in range(2):\n",
    "                samples = buffer.sample(batchsize)\n",
    "                maddpg.update(samples, a_i)\n",
    "            maddpg.update_targets() #soft update the target network towards the actual networks\n",
    "\n",
    "        \n",
    "        \n",
    "        \n",
    "\n",
    "        if episode % 100 == 0 or episode == number_of_episodes-1:\n",
    "            print('Episode: ',episode,'Average score: ',np.mean(scores))\n",
    "            \n",
    "\n",
    "        #saving model\n",
    "        save_dict_list =[]\n",
    "        if np.mean(scores)>=.5:\n",
    "            for i in range(2):\n",
    "\n",
    "                save_dict = {'actor_params' : maddpg.maddpg_agent[i].actor.state_dict(),\n",
    "                             'actor_optim_params': maddpg.maddpg_agent[i].actor_optimizer.state_dict(),\n",
    "                             'critic_params' : maddpg.maddpg_agent[i].critic.state_dict(),\n",
    "                             'critic_optim_params' : maddpg.maddpg_agent[i].critic_optimizer.state_dict()}\n",
    "                save_dict_list.append(save_dict)\n",
    "\n",
    "            torch.save(save_dict_list,os.path.join(model_dir, 'checkpoint.pt'.format(episode)))\n",
    "            print('---------- Envionrment Solved at Episode: ',episode,'-------------')\n",
    "            with open(model_dir+'/scores.txt','a') as f:\n",
    "                for s in all_scores:\n",
    "                    f.write(str(s)+'\\n')\n",
    "            break\n",
    "           \n",
    "\n",
    "    #env.close()\n",
    "    timer.finish()\n",
    "\n",
    "if __name__=='__main__':\n",
    "    main()\n",
    "\n"
   ]
  },
  {
   "cell_type": "code",
   "execution_count": 45,
   "metadata": {},
   "outputs": [],
   "source": [
    "lst = []\n",
    "model_dir= os.getcwd()+\"/model_dir\"\n",
    "with open(model_dir+'/scores.txt','r') as f:\n",
    "        for l in f:\n",
    "            lst.append(float(l))"
   ]
  },
  {
   "cell_type": "code",
   "execution_count": 52,
   "metadata": {},
   "outputs": [
    {
     "data": {
      "text/plain": [
       "[<matplotlib.lines.Line2D at 0x7f7dff00e5c0>]"
      ]
     },
     "execution_count": 52,
     "metadata": {},
     "output_type": "execute_result"
    },
    {
     "data": {
      "image/png": "[encoded data removed]",
      "text/plain": [
       "<matplotlib.figure.Figure at 0x7f7dff0819e8>"
      ]
     },
     "metadata": {
      "needs_background": "light"
     },
     "output_type": "display_data"
    }
   ],
   "source": [
    "import matplotlib.pyplot as plt\n",
    "plt.plot(range(0,713//2),lst)"
   ]
  }
 ],
 "metadata": {
  "kernelspec": {
   "display_name": "Python 3",
   "language": "python",
   "name": "python3"
  },
  "language_info": {
   "codemirror_mode": {
    "name": "ipython",
    "version": 3
   },
   "file_extension": ".py",
   "mimetype": "text/x-python",
   "name": "python",
   "nbconvert_exporter": "python",
   "pygments_lexer": "ipython3",
   "version": "3.6.3"
  }
 },
 "nbformat": 4,
 "nbformat_minor": 2
}
